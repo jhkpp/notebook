{
  "nbformat": 4,
  "nbformat_minor": 0,
  "metadata": {
    "colab": {
      "name": "상품 순위 추출_0.1",
      "provenance": [],
      "collapsed_sections": [],
      "include_colab_link": true
    },
    "kernelspec": {
      "name": "python3",
      "display_name": "Python 3"
    }
  },
  "cells": [
    {
      "cell_type": "markdown",
      "metadata": {
        "id": "view-in-github",
        "colab_type": "text"
      },
      "source": [
        "<a href=\"https://colab.research.google.com/github/jhkpp/notebook/blob/main/%EC%83%81%ED%92%88_%EC%88%9C%EC%9C%84_%EC%B6%94%EC%B6%9C_0_1.ipynb\" target=\"_parent\"><img src=\"https://colab.research.google.com/assets/colab-badge.svg\" alt=\"Open In Colab\"/></a>"
      ]
    },
    {
      "cell_type": "markdown",
      "metadata": {
        "id": "sbpdF_Y_XH7l"
      },
      "source": [
        "\n",
        "**상품 정보 수집툴**"
      ]
    },
    {
      "cell_type": "markdown",
      "metadata": {
        "id": "FAun7AKodG1x"
      },
      "source": [
        " - 실시간 그딴거 없고 수정으로 동작하는 노트북임당\n",
        " -"
      ]
    },
    {
      "cell_type": "code",
      "metadata": {
        "id": "Clc3PmVBfQEk",
        "outputId": "ceae8be8-a62c-4aaf-bbd9-c3a2d079c665",
        "colab": {
          "base_uri": "https://localhost:8080/",
          "height": 413
        }
      },
      "source": [
        "# 구글 스프레이드시트 기록 관련 정의\n",
        "!pip install --upgrade gspread\n",
        "\n",
        "from google.colab import auth\n",
        "auth.authenticate_user()\n",
        "\n",
        "import gspread\n",
        "from oauth2client.client import GoogleCredentials\n",
        "\n",
        "gc = gspread.authorize(GoogleCredentials.get_application_default())\n"
      ],
      "execution_count": null,
      "outputs": [
        {
          "output_type": "stream",
          "text": [
            "Collecting gspread\n",
            "  Downloading https://files.pythonhosted.org/packages/9c/ba/bc8de4f5077bd34bc873bdd67a89cb29c4f181abba8a836d2c6a0a142365/gspread-3.6.0-py3-none-any.whl\n",
            "Requirement already satisfied, skipping upgrade: requests>=2.2.1 in /usr/local/lib/python3.6/dist-packages (from gspread) (2.23.0)\n",
            "Requirement already satisfied, skipping upgrade: google-auth-oauthlib>=0.4.1 in /usr/local/lib/python3.6/dist-packages (from gspread) (0.4.1)\n",
            "Requirement already satisfied, skipping upgrade: google-auth>=1.12.0 in /usr/local/lib/python3.6/dist-packages (from gspread) (1.17.2)\n",
            "Requirement already satisfied, skipping upgrade: idna<3,>=2.5 in /usr/local/lib/python3.6/dist-packages (from requests>=2.2.1->gspread) (2.10)\n",
            "Requirement already satisfied, skipping upgrade: urllib3!=1.25.0,!=1.25.1,<1.26,>=1.21.1 in /usr/local/lib/python3.6/dist-packages (from requests>=2.2.1->gspread) (1.24.3)\n",
            "Requirement already satisfied, skipping upgrade: certifi>=2017.4.17 in /usr/local/lib/python3.6/dist-packages (from requests>=2.2.1->gspread) (2020.6.20)\n",
            "Requirement already satisfied, skipping upgrade: chardet<4,>=3.0.2 in /usr/local/lib/python3.6/dist-packages (from requests>=2.2.1->gspread) (3.0.4)\n",
            "Requirement already satisfied, skipping upgrade: requests-oauthlib>=0.7.0 in /usr/local/lib/python3.6/dist-packages (from google-auth-oauthlib>=0.4.1->gspread) (1.3.0)\n",
            "Requirement already satisfied, skipping upgrade: six>=1.9.0 in /usr/local/lib/python3.6/dist-packages (from google-auth>=1.12.0->gspread) (1.15.0)\n",
            "Requirement already satisfied, skipping upgrade: setuptools>=40.3.0 in /usr/local/lib/python3.6/dist-packages (from google-auth>=1.12.0->gspread) (50.3.0)\n",
            "Requirement already satisfied, skipping upgrade: pyasn1-modules>=0.2.1 in /usr/local/lib/python3.6/dist-packages (from google-auth>=1.12.0->gspread) (0.2.8)\n",
            "Requirement already satisfied, skipping upgrade: cachetools<5.0,>=2.0.0 in /usr/local/lib/python3.6/dist-packages (from google-auth>=1.12.0->gspread) (4.1.1)\n",
            "Requirement already satisfied, skipping upgrade: rsa<5,>=3.1.4; python_version >= \"3\" in /usr/local/lib/python3.6/dist-packages (from google-auth>=1.12.0->gspread) (4.6)\n",
            "Requirement already satisfied, skipping upgrade: oauthlib>=3.0.0 in /usr/local/lib/python3.6/dist-packages (from requests-oauthlib>=0.7.0->google-auth-oauthlib>=0.4.1->gspread) (3.1.0)\n",
            "Requirement already satisfied, skipping upgrade: pyasn1<0.5.0,>=0.4.6 in /usr/local/lib/python3.6/dist-packages (from pyasn1-modules>=0.2.1->google-auth>=1.12.0->gspread) (0.4.8)\n",
            "Installing collected packages: gspread\n",
            "  Found existing installation: gspread 3.0.1\n",
            "    Uninstalling gspread-3.0.1:\n",
            "      Successfully uninstalled gspread-3.0.1\n",
            "Successfully installed gspread-3.6.0\n"
          ],
          "name": "stdout"
        }
      ]
    },
    {
      "cell_type": "code",
      "metadata": {
        "id": "HD58CPHDnemL"
      },
      "source": [
        "# 스크래핑 정의\n",
        "from bs4 import BeautifulSoup\n",
        "import requests\n",
        "\n",
        "import pandas as pd\n",
        "import matplotlib.pyplot as plt"
      ],
      "execution_count": null,
      "outputs": []
    },
    {
      "cell_type": "code",
      "metadata": {
        "id": "lFbhTUE6cokh"
      },
      "source": [
        "def getInwwwwwwwwwww():\n",
        "  "
      ],
      "execution_count": null,
      "outputs": []
    },
    {
      "cell_type": "markdown",
      "metadata": {
        "id": "cjHVMpihZrK9"
      },
      "source": [
        "# In"
      ]
    },
    {
      "cell_type": "markdown",
      "metadata": {
        "id": "2puAtIZxayIP"
      },
      "source": [
        " - 각 채널의 카테고리별로 경로를 지정한다. "
      ]
    },
    {
      "cell_type": "markdown",
      "metadata": {
        "id": "wMWhGByLxVdY"
      },
      "source": [
        "각 채널별 카테고리별 링크 리스트\n",
        "\n",
        "<지마켓>\n",
        "- 스포츠 자동차 전체\n",
        "http://corners.gmarket.co.kr/Bestsellers?viewType=G&groupCode=G05\n",
        " - 등산/아웃도어\n",
        "http://corners.gmarket.co.kr/Bestsellers?viewType=G&groupCode=G05&subGroupCode=S180\n",
        "- 컴퓨터 전자 전체\n",
        "http://corners.gmarket.co.kr/Bestsellers?viewType=G&groupCode=G06\n",
        " - 디지털 엑세서리 http://corners.gmarket.co.kr/Bestsellers?viewType=G&groupCode=G06&subGroupCode=S112\n",
        "- 계절가전\n",
        "http://corners.gmarket.co.kr/Bestsellers?viewType=G&groupCode=G06&subGroupCode=S061\n",
        "\n",
        "\n",
        "<옥션>\n",
        "- 가전 디지털 전체\n",
        "http://corners.auction.co.kr/corner/categorybest.aspx?catetab=9\n",
        "- 계절가전\n",
        "http://corners.auction.co.kr/corner/categorybest.aspx?category=34000000\n",
        "\n",
        "\n",
        "<쿠팡>\n",
        "\n",
        " - 가전디지털\n",
        "https://www.coupang.com/np/categories/178255\n",
        "\n",
        "\n"
      ]
    },
    {
      "cell_type": "code",
      "metadata": {
        "id": "PvbE3lGKpCVl"
      },
      "source": [
        "# 경로지정\n",
        "gurl = \"http://corners.gmarket.co.kr/Bestsellers?viewType=G&groupCode=G06&subGroupCode=S112\" #@param {type:\"string\"}\n",
        "aurl = \"http://corners.auction.co.kr/corner/categorybest.aspx?category=34000000\\\"\" #@param {type:\"string\"}\n",
        "cpurl = \"https://www.coupang.com/np/categories/178255\" #@param {type:\"string\"}\n",
        "\n",
        "\n"
      ],
      "execution_count": null,
      "outputs": []
    },
    {
      "cell_type": "code",
      "metadata": {
        "id": "24_EKjfVoqqX"
      },
      "source": [
        "req = requests.get(gurl)\n",
        " \n",
        "gmarket = req.text\n",
        " \n",
        "gsoup = BeautifulSoup(gmarket, 'html.parser')\n",
        " \n",
        "req = requests.get(aurl)\n",
        " \n",
        "auction = req.text\n",
        " \n",
        "asoup = BeautifulSoup(auction, 'html.parser')\n",
        "\n",
        "coopang = req.text\n",
        " \n",
        "cpsoup = BeautifulSoup(coopang, 'html.parser')"
      ],
      "execution_count": null,
      "outputs": []
    },
    {
      "cell_type": "markdown",
      "metadata": {
        "id": "BIuQVm9RbpC7"
      },
      "source": [
        "# Out\n"
      ]
    },
    {
      "cell_type": "code",
      "metadata": {
        "id": "AuzWhI21ptuE",
        "outputId": "921c0f11-255e-4ac0-a505-0c9622533ea4",
        "colab": {
          "base_uri": "https://localhost:8080/",
          "height": 1000
        }
      },
      "source": [
        "gmdatas = gsoup.select('.itemname') # 지마켓 상품 이름의 대한 \n",
        "#gmdatas = gsoup.select('div.item_price > div.s-price') # 지마켓 가격정보\n",
        "\n",
        "gtitle = [] # 상품명\n",
        "grurl = []  # 상품url\n",
        "result = []\n",
        "\n",
        "result.insert(0, 1)\n",
        "\n",
        "for gm in gmdatas:\n",
        "     gtitle.append(gm.text)\n",
        "     grurl.append(gm.get('href'))\n",
        "     print (gm.get('href'))\n",
        "     print(gm.text)\n",
        "\n",
        "#   print(grurl)\n",
        "\n",
        "#for i in range(1, 105):\n",
        "#    result[i] = gtitle[i] + \" \" + grurl[i]\n",
        "#    print (result[i])\n",
        "    "
      ],
      "execution_count": null,
      "outputs": [
        {
          "output_type": "stream",
          "text": [
            "\n",
            "\n",
            "\n",
            "\n",
            "\n",
            "\n",
            "\n",
            "\n",
            "\n",
            "\n",
            "http://item.gmarket.co.kr/Item?goodscode=1674605357&ver=637394830625097075\n",
            "[갤럭시]노트10 노트8 노트9 S10 S9 S8 플러스 핸드폰 케이스\n",
            "http://item.gmarket.co.kr/Item?goodscode=268988080&ver=637394830625097075\n",
            "[레드울프]노트20 S20 5G/노트10 9/S10/S9 울트라 가죽 폰케이스\n",
            "http://item.gmarket.co.kr/Item?goodscode=1753388902&ver=637394830625097075\n",
            "[애플][Apple] 애플 펜슬2세대 MU8F2KH/A\n",
            "http://item.gmarket.co.kr/Item?goodscode=826268928&ver=637394830625097075\n",
            "갤럭시S20 노트20/10 9 8 울트라 5G/S10/S9/S8/케이스\n",
            "http://item.gmarket.co.kr/Item?goodscode=1418909600&ver=637394830625097075\n",
            "[삼성전자]핸드폰 갤럭시S20 S10 S9 노트20 울트라 노트10 노트9\n",
            "http://item.gmarket.co.kr/Item?goodscode=208542015&ver=637394830625097075\n",
            "[삼성전자]핸드폰/갤럭시노트20/S20/FE/S10/A31/A21s/아이폰12\n",
            "http://item.gmarket.co.kr/Item?goodscode=1674018188&ver=637394830625097075\n",
            "블랙 아이모노 핸드폰 휴대폰 삼각대 블루투스 셀카봉\n",
            "http://item.gmarket.co.kr/Item?goodscode=1854064464&ver=637394830625097075\n",
            "[링케]갤럭시 Z플립/Z플립 5G 폴리오 시그니처 가죽 케이스\n",
            "http://item.gmarket.co.kr/Item?goodscode=285108278&ver=637394830625097075\n",
            "[삼성전자]갤럭시S20 S10 S9 노트20 울트라 노트10 노트9 핸드폰\n",
            "http://item.gmarket.co.kr/Item?goodscode=1914525245&ver=637394830625097075\n",
            "(무료배송) 롯데제과 죠크박 아이스크림 휴대폰 케이스\n",
            "http://item.gmarket.co.kr/Item?goodscode=1536522634&ver=637394830625097075\n",
            "핸드폰 갤럭시S20 S10 노트20 울트라 노트 10+ 아이폰\n",
            "http://item.gmarket.co.kr/Item?goodscode=1279012642&ver=637394830625097075\n",
            "[브리츠]BE-LED3 시력보호/밝기조절/독서등/학습용/LED스탠드\n",
            "http://item.gmarket.co.kr/Item?goodscode=606136237&ver=637394830625097075\n",
            "[삼성전자]핸드폰/갤럭시S20/S10/S9/노트9/A5/A7/A8/J5/폰케이스\n",
            "http://item.gmarket.co.kr/Item?goodscode=533544400&ver=637394830625097075\n",
            "갤럭시 노트105G플러스/노트8/S10/S9/S8/핸드폰케이스\n",
            "http://item.gmarket.co.kr/Item?goodscode=1407035123&ver=637394830625097075\n",
            "제로스킨 갤럭시S20 울트라 S10 5G 노트10 S9 케이스\n",
            "http://item.gmarket.co.kr/Item?goodscode=285106281&ver=637394830625097075\n",
            "[삼성전자]핸드폰 갤럭시S20 S10 S9플러스 노트20 울트라 노트10\n",
            "http://item.gmarket.co.kr/Item?goodscode=1924138829&ver=637394830625097075\n",
            "[애플][Apple] MagSafe형 iPhone 12  12 Pro 실리콘 케이스 - 블랙 - MHL73FE/A\n",
            "http://item.gmarket.co.kr/Item?goodscode=1911234917&ver=637394830625097075\n",
            "[뷰씨]2020 아이패드 에어4 10.9인치 폴리오커버형 케이스\n",
            "http://item.gmarket.co.kr/Item?goodscode=424544058&ver=637394830625097075\n",
            "갤럭시노트10 노트9 노트8 S20 S10 S9 S8 S7 폰케이스\n",
            "http://item.gmarket.co.kr/Item?goodscode=1674511004&ver=637394830625097075\n",
            "핑크 아이모노 핸드폰 휴대폰 삼각대 블루투스 셀카봉\n",
            "http://item.gmarket.co.kr/Item?goodscode=1817227754&ver=637394830625097075\n",
            "[코끼리리빙]코끼리리빙 높이조절 태블릿 핸드폰 거치대 SIZE 대\n",
            "http://item.gmarket.co.kr/Item?goodscode=329369135&ver=637394830625097075\n",
            "[갤럭시노트9]노트10 노트8 S20 S10 E 5G S9 S8 S7 플러스 A30 A50\n",
            "http://item.gmarket.co.kr/Item?goodscode=917390345&ver=637394830625097075\n",
            "[갤럭시]핸드폰 갤럭시S20 S10 5G S9 S8 노트10 노트9 A30 A50\n",
            "http://item.gmarket.co.kr/Item?goodscode=1714517011&ver=637394830625097075\n",
            "[apple] 애플 펜슬 2세대 MU8F2KH/A Apple Pencil\n",
            "http://item.gmarket.co.kr/Item?goodscode=533509171&ver=637394830625097075\n",
            "갤럭시 노트10/노트8/노트5/S10/S9/S8/5G핸드폰케이스\n",
            "http://item.gmarket.co.kr/Item?goodscode=1794300125&ver=637394830625097075\n",
            "[비스비]1+1 삼성 갤럭시탭 s6 라이트 S펜수납 북커버 케이스\n",
            "http://item.gmarket.co.kr/Item?goodscode=1914136299&ver=637394830625097075\n",
            "[신지모루]아이폰12/12프로 핸드폰 투명 젤리 범퍼 케이스\n",
            "http://item.gmarket.co.kr/Item?goodscode=1776111762&ver=637394830625097075\n",
            "핸드폰줄 목걸이 아이폰 김혜수 스트랩 카드 케이스\n",
            "http://item.gmarket.co.kr/Item?goodscode=1285647386&ver=637394830625097075\n",
            "갤럭시노트10/노트9/노트8/S20/S10/S9/S8/S7 폰케이스\n",
            "http://item.gmarket.co.kr/Item?goodscode=1568435414&ver=637394830625097075\n",
            "[삼성전자]정품 갤럭시노트10 S20 S10 노트20클리어뷰커버 LED뷰\n",
            "http://item.gmarket.co.kr/Item?goodscode=1866325683&ver=637394830625097075\n",
            "노트20 S20 5G/노트10 9/S10/S9 울트라 가죽 폰케이스\n",
            "http://item.gmarket.co.kr/Item?goodscode=556095324&ver=637394830625097075\n",
            "{티니북}/Made in Korea/전기종 생산/핸드폰케이스\n",
            "http://item.gmarket.co.kr/Item?goodscode=1815825103&ver=637394830625097075\n",
            "[아이패드][Apple] 애플 펜슬1세대 MK0C2KH/A\n",
            "http://item.gmarket.co.kr/Item?goodscode=653563597&ver=637394830625097075\n",
            "[루이트]5세대 액션캠장착 블루투스 삼각대 셀카봉91cm  블랙\n",
            "http://item.gmarket.co.kr/Item?goodscode=1871812138&ver=637394830625097075\n",
            "[비스비]1+1 삼성 갤럭시탭s7 플러스 북커버 케이스 S펜수납\n",
            "http://item.gmarket.co.kr/Item?goodscode=1848778331&ver=637394830625097075\n",
            "갤럭시 z플립 제트플립 지플립 톰브라운 가죽케이스\n",
            "http://item.gmarket.co.kr/Item?goodscode=1796843839&ver=637394830625097075\n",
            "1+2 갤럭시탭S6 라이트 펜수납 케이스+강화유리필름\n",
            "http://item.gmarket.co.kr/Item?goodscode=1907300356&ver=637394830625097075\n",
            "[빅쏘]아이폰12 / 12 프로 레빅 투명 하드 케이스\n",
            "http://item.gmarket.co.kr/Item?goodscode=724398378&ver=637394830625097075\n",
            "갤럭시S20 S10 5G 노트20울트라 노트10 9 8 가죽 지갑\n",
            "http://item.gmarket.co.kr/Item?goodscode=1748952876&ver=637394830625097075\n",
            "[애플]애플 워치 마그네틱 충전 케이블 1m MX2E2KH/A\n",
            "http://item.gmarket.co.kr/Item?goodscode=1793342477&ver=637394830625097075\n",
            "[갤럭시]노트10 노트8 노트9 S10 S9 S8 플러스 핸드폰 케이스\n",
            "http://item.gmarket.co.kr/Item?goodscode=1738310190&ver=637394830625097075\n",
            "[로마네]브런치브라더 11 13 15 17 파우치 탭 패드 노트북 SD\n",
            "http://item.gmarket.co.kr/Item?goodscode=533543109&ver=637394830625097075\n",
            "LG V50/V40/G8/G7/G6/X5/Q9/Q8/3 플러스 핸드폰케이스\n",
            "http://item.gmarket.co.kr/Item?goodscode=669277064&ver=637394830625097075\n",
            "[삼성전자]삼성정품 케이스 갤럭시S20 FE 노트10+ 노트20울트라\n",
            "http://item.gmarket.co.kr/Item?goodscode=1919146979&ver=637394830625097075\n",
            "[헤이맨]아이패드 에어4 애플펜슬 폴리오 스마트커버 케이스\n",
            "http://item.gmarket.co.kr/Item?goodscode=1527761362&ver=637394830625097075\n",
            "[갤럭시노트9]카드 범퍼 노트20 노트10 S20 S10 A10e S9 S8 플러스\n",
            "http://item.gmarket.co.kr/Item?goodscode=1912434105&ver=637394830625097075\n",
            "[링케]아이폰12 / 12프로 케이스 링케퓨전\n",
            "http://item.gmarket.co.kr/Item?goodscode=1870765590&ver=637394830625097075\n",
            "[비스비]1+1 삼성 갤럭시탭 s7 북커버 케이스 S펜 수납\n",
            "http://item.gmarket.co.kr/Item?goodscode=1878075512&ver=637394830625097075\n",
            "[비스비]갤럭시노트20울트라 카메라보호케이스 +투명케이스\n",
            "http://item.gmarket.co.kr/Item?goodscode=1843800774&ver=637394830625097075\n",
            "[아라리]갤럭시Z 플립 케이스 에어로 플렉스\n",
            "http://item.gmarket.co.kr/Item?goodscode=693913641&ver=637394830625097075\n",
            "[삼성전자]핸드폰/갤럭시S10/S9/S8/노트10/노트9/A5/A7/폰케이스\n",
            "http://item.gmarket.co.kr/Item?goodscode=1710356340&ver=637394830625097075\n",
            "[한솔제지]감열지 79x70 50롤 할부약관 포스용지 영수증용지 POS\n",
            "http://item.gmarket.co.kr/Item?goodscode=1871820315&ver=637394830625097075\n",
            "[피넛]탄소강 스마트폰/태블릿 거치대 자바라포함 블랙\n",
            "http://item.gmarket.co.kr/Item?goodscode=1893326272&ver=637394830625097075\n",
            "[링케]갤럭시 Z폴드2 5G 케이스 링케슬림\n",
            "http://item.gmarket.co.kr/Item?goodscode=1689707675&ver=637394830625097075\n",
            "라이노 (강화유리 증정) 아이패드7/8세대 10.2 케이스\n",
            "http://item.gmarket.co.kr/Item?goodscode=1549402903&ver=637394830625097075\n",
            "[데켄스]갤럭시노트20 S20 울트라 S10 S9 노트10 플러스 노트9\n",
            "http://item.gmarket.co.kr/Item?goodscode=529332026&ver=637394830625097075\n",
            "2종/ 갤럭시탭S7 6 S5e 12.4 11 10.1 9.7 8.0 케이스\n",
            "http://item.gmarket.co.kr/Item?goodscode=1407725276&ver=637394830625097075\n",
            "[셀루미]셀루미 INTO 하이엔드 삼각대셀카봉 VCT-188 매트블랙\n",
            "http://item.gmarket.co.kr/Item?goodscode=1486992369&ver=637394830625097075\n",
            "핸드폰 갤럭시S20 울트라 노트10 S9 S8 아이폰11 프로\n",
            "http://item.gmarket.co.kr/Item?goodscode=1868872177&ver=637394830625097075\n",
            "전자노트 12인치 메모/필기/연습장 (1+1) 이벤트 특가\n",
            "http://item.gmarket.co.kr/Item?goodscode=1788311175&ver=637394830625097075\n",
            "[클레버]이지뷰 리프트형 맥북 노트북 거치대 CE-02ELV\n",
            "http://item.gmarket.co.kr/Item?goodscode=1572729833&ver=637394830625097075\n",
            "이지드로잉 1060plus 펜심8개 보호필름 무료 대량할인\n",
            "http://item.gmarket.co.kr/Item?goodscode=1858708501&ver=637394830625097075\n",
            "방탄 젤리 갤럭시S10 5G S20 노트10 9 A31 아이폰11 X\n",
            "http://item.gmarket.co.kr/Item?goodscode=1840086736&ver=637394830625097075\n",
            "핸드폰 갤럭시 노트20 노트10 S20 S10 S9 아이폰 11 X\n",
            "http://item.gmarket.co.kr/Item?goodscode=1775885425&ver=637394830625097075\n",
            "[메이텍]무선 블루투스 짐벌 셀카봉 삼각대 거치대 MT-GS007\n",
            "http://item.gmarket.co.kr/Item?goodscode=1794107168&ver=637394830625097075\n",
            "[카멜마운트]슬라이딩 키보드트레이 KT-1 키보드받침대\n",
            "http://item.gmarket.co.kr/Item?goodscode=1850003963&ver=637394830625097075\n",
            "[킨맥]360쉴드 노트북파우치 맥북프로 삼성 갤럭시북 LG그램\n",
            "http://item.gmarket.co.kr/Item?goodscode=401116100&ver=637394830625097075\n",
            "그립 톡스마트 케이스 갤럭시S20 노트10 아이폰11 pro\n",
            "http://item.gmarket.co.kr/Item?goodscode=1640156796&ver=637394830625097075\n",
            "[루이트]7세대 줌기능 블루투스 짐벌셀카봉 삼각대 RT-JS7 블랙\n",
            "http://item.gmarket.co.kr/Item?goodscode=843125929&ver=637394830625097075\n",
            "[구스페리]갤럭시 A21S A31 A51 A퀀텀 진2 A9 프로 J3 J4 J6 J7\n",
            "http://item.gmarket.co.kr/Item?goodscode=1924138444&ver=637394830625097075\n",
            "[애플][Apple] MagSafe형 iPhone 12  12 Pro 실리콘 케이스 - 핑크 시트러스 - MHL03FE/A\n",
            "http://item.gmarket.co.kr/Item?goodscode=1693479009&ver=637394830625097075\n",
            "[씽큐]LG 벨벳 V50S V50 V40 G7 G6 X4 Q8 Q6 지갑형 핸드폰\n",
            "http://item.gmarket.co.kr/Item?goodscode=1912002921&ver=637394830625097075\n",
            "[슈피겐]아이폰12 프로 맥스 미니 케이스 울트라하이브리드\n",
            "http://item.gmarket.co.kr/Item?goodscode=1468594310&ver=637394830625097075\n",
            "1+1 게이밍 장패드 젤패드 마우스패드 오바로크패드\n",
            "http://item.gmarket.co.kr/Item?goodscode=1910920698&ver=637394830625097075\n",
            "[애플]Apple 애플 펜슬 1세대 (MK0C2KH/A) RN\n",
            "http://item.gmarket.co.kr/Item?goodscode=1837252808&ver=637394830625097075\n",
            "오늘만 슈퍼이벤트 폰스트랩 10만개돌파 사은품증정\n",
            "http://item.gmarket.co.kr/Item?goodscode=1765924759&ver=637394830625097075\n",
            "Apple MagSafe 1/2 맥북충전기 어댑터 45w 60w 85w\n",
            "http://item.gmarket.co.kr/Item?goodscode=1163151614&ver=637394830625097075\n",
            "고급형 무선 스마트폰 미러링 TV연결 동글 M-ST045\n",
            "http://item.gmarket.co.kr/Item?goodscode=1885432922&ver=637394830625097075\n",
            "[슈피겐]갤럭시폴드2 케이스 갤럭시Z폴드2 케이스 씬핏\n",
            "http://item.gmarket.co.kr/Item?goodscode=1458708472&ver=637394830625097075\n",
            "[슈피겐]삼각대 셀카봉 2세대 블랙 ZA000SS24111\n",
            "http://item.gmarket.co.kr/Item?goodscode=1863948546&ver=637394830625097075\n",
            "[삼성전자]갤럭시 노트20 울트라 스마트 클리어 뷰 커버 케이스\n",
            "http://item.gmarket.co.kr/Item?goodscode=1688886945&ver=637394830625097075\n",
            "[요이치]욜로 4세대 스마트폰 블루투스 셀카봉 삼각대 - 블랙\n",
            "http://item.gmarket.co.kr/Item?goodscode=1886887014&ver=637394830625097075\n",
            "노트북 받침대/거치대/접이식거치대/맥북/태블릿/2단\n",
            "http://item.gmarket.co.kr/Item?goodscode=1652431543&ver=637394830625097075\n",
            "(주식회사아이몰) 아이폰 12 프로 11 프로 SE2 변색없는에어제트 투명케이스\n",
            "http://item.gmarket.co.kr/Item?goodscode=1714211778&ver=637394830625097075\n",
            "[삼성전자]삼성 정품 갤럭시노트10플러스 LED뷰 커버 케이스 /F\n",
            "http://item.gmarket.co.kr/Item?goodscode=1918921040&ver=637394830625097075\n",
            "[케이맥스]아이폰12 / 12프로 슬림핏 세트 케이스+필름+카메라\n",
            "http://item.gmarket.co.kr/Item?goodscode=1863951300&ver=637394830625097075\n",
            "[삼성전자]갤럭시 노트20 울트라 프로텍티브 스탠딩 커버 케이스\n",
            "http://item.gmarket.co.kr/Item?goodscode=1248139162&ver=637394830625097075\n",
            "스마트폰 태블릿 접이식 원형 스탠드 거치대 / 블랙\n",
            "http://item.gmarket.co.kr/Item?goodscode=1744005273&ver=637394830625097075\n",
            "[삼성전자]정품 갤럭시 노트9 LED 뷰 커버 케이스 (EF-NN960)\n",
            "http://item.gmarket.co.kr/Item?goodscode=969040553&ver=637394830625097075\n",
            "삼성 맥북 노트북 가방 파우치 13.3 15 15.6 인치\n",
            "http://item.gmarket.co.kr/Item?goodscode=1446519617&ver=637394830625097075\n",
            "[레드울프]매직슬림 지갑형 핸드폰케이스 전기종 제작 많은 수납\n",
            "http://item.gmarket.co.kr/Item?goodscode=1821616665&ver=637394830625097075\n",
            "갤럭시 Z플립 천연가죽 케이스\n",
            "http://item.gmarket.co.kr/Item?goodscode=1596620874&ver=637394830625097075\n",
            "핸드폰 갤럭시S20 S10 노트10 플러스 아이폰11 XS 8\n",
            "http://item.gmarket.co.kr/Item?goodscode=928850760&ver=637394830625097075\n",
            "갤럭시A3 A5 A7 A6 A8 A9 스타 프로 진 A30 A50 A90\n",
            "http://item.gmarket.co.kr/Item?goodscode=1614416999&ver=637394830625097075\n",
            "갤럭시탭S6 탭S7 lite 탭S5e 탭A7 10.1블루투스키보드\n",
            "http://item.gmarket.co.kr/Item?goodscode=1176950719&ver=637394830625097075\n",
            "SE-M600 온열 테이블매트 데스크매트 장패드 책상매트\n",
            "http://item.gmarket.co.kr/Item?goodscode=1433216983&ver=637394830625097075\n",
            "[요이치]스마트폰 무선 셀카봉 삼각대 욜로 WT300 블랙\n",
            "http://item.gmarket.co.kr/Item?goodscode=1706664337&ver=637394830625097075\n",
            "[삼성전자]삼성 노트북 PEN S 충전기 USB C타입 PD 65W 어댑터\n",
            "http://item.gmarket.co.kr/Item?goodscode=1794182174&ver=637394830625097075\n",
            "[힐링쉴드]아이패드 프로 4세대 11/12.9인치 종이질감/강화유리\n",
            "http://item.gmarket.co.kr/Item?goodscode=1833034068&ver=637394830625097075\n",
            "[AZV]2+1 갤럭시탭 S6 라이트 tpu 펜수납 케이스 p610 p615\n"
          ],
          "name": "stdout"
        }
      ]
    },
    {
      "cell_type": "code",
      "metadata": {
        "id": "sCmwNTg2QMi_",
        "outputId": "a029602f-ef2d-457c-ece4-8d23b81c388d",
        "colab": {
          "base_uri": "https://localhost:8080/",
          "height": 1000
        }
      },
      "source": [
        "audatas = asoup.select('div.info > em > a') # 옥션 상품 이름의 대한값\n",
        "\n",
        "for auc in audatas:\n",
        "    print(auc.text)\n",
        "   # print(auc.get('href'))\n",
        "\n"
      ],
      "execution_count": null,
      "outputs": [
        {
          "output_type": "stream",
          "text": [
            " 일월매트  일월 슬림 온수매트 싱글\n",
            "[윈드피아]펭수전기요 전기장판 전기매트 온열매트 슈퍼싱글\n",
            "[퓨리케어]LG전자 퓨리케어 공기청정기 AS190DWFR (T)\n",
            "[다이슨] 본사직영  다이슨 HP06 퓨어 핫앤쿨 크립토믹 (건메탈/브론즈)\n",
            "경동나비엔 초슬림 온수매트 더케어 EQM541-SS 싱글사이즈\n",
            "[보이로]SSG단독  보이로  독일 프리미엄 전기요 UB105(1인용/그레이)/12시간 타이머/ 스마트 분리난방/ 4단계...\n",
            "[일월]초절전형 THE 70W 프리미엄 전기매트 싱글 170X70CM\n",
            "[피스넷]방마다 하나씩 공기청정기 피스넷 퓨어룸 / H13 필터\n",
            "[위닉스]위닉스 (정품필터) 제로S 공기청정기 필터세트 CAF-I0S3 (I필터) (제품명이나 필터타입으로 확인후 구매...\n",
            "[일월]일월 드림스파 온수매트 자연순환식 싱글 2020년 신형\n",
            "[곰표한일전자]곰표한일 온돌마루 카페트 전기매트 장판 슈퍼킹특대\n",
            "사무실 가정용 전기 히터 온풍기 난방기 난로\n",
            "[샤오미]샤오미 공기청정기 미에어 3C 한글판 /2020최신\n",
            "[린나이]린나이 콘덴싱 보일러 LPG가스 132.2㎡(RC300-22KFN)\n",
            "[휘센]LG 휘센 벽걸이 냉난방기 SW07B9JWAS 7평 기본설치포함\n",
            "[일월]일월 프리미엄 뉴 드림스파 온수매트_퀸(150x200)\n",
            "신일 석유 팬히터 SFH-C909MVP 9리터 이동식 캠핑\n",
            "[일월]일월 프리미엄 온수매트 뉴 드림스파 더블\n",
            "[캐리어]캐리어 인버터 냉난방기 11평형 ARQ11VB 기본설치무료\n",
            "[캐리어]ARQ11VB 전국무료배송/기본설치비포함 인버터 냉난방\n",
            "[한일전기]한일전기 HEF-3320-WP 업소용 전기온풍기\n",
            "[일월]뉴 드림스파 온수 매트 싱글 1인용 온열 카페트 전기\n",
            "[오아]간편세척 초음파 무드등 미니 무드가습기1000 W0009\n",
            "윤남텍 간편세척 초음파 다목적 가습기 YN-101\n",
            "[삼원]절전왕 똑순이매트 자동 전기매트 전기요 장판 싱글\n",
            "순간 온수기 따수와 전기온수기 전기순간온수기 본품\n",
            "[곰표한일전자]곰표한일 착한 EMF 전기매트 전기장판 요 미니싱글\n",
            "SF-PH500 홍진라디에이터컨벡터히터난로온풍기스토브\n",
            "[듀플렉스]듀플렉스 아로마 초음파 가습기 3.5L DP-9070UH\n",
            "(무료체험 7일) 블랙스타 열판 오방난로  INT-H2500G\n",
            "[일월]일월 프리미엄 온수매트 뉴 드림스파 싱글 / 1인용\n",
            "[KAYA]가야 산업용 제습기 55평/65L 국산/물통형 KY-6538A\n",
            "에버튼하우스 초음파가습기4리터(화이트)+리모컨\n",
            "[일월]온수매트 싱글 /뉴 드림스파 2021년형\n",
            "이엑스파워 PTC 팬히터 온풍기 EFH-2000\n",
            "대웅 3단 석영관 전기히터/전기난로 CZ-6500KH(고급형)\n",
            "[신일전자]신일 컨벡터 히터 SEH-CO3000 벽걸이히터 라디에이터\n",
            "[일월]사계절구들장 대청마루 전기장판 전기카페트 7T(183x250)_투난방\n",
            "[퓨리케어]AS280DWFC 가인\n",
            "[피스넷]USB 충전식 휴대용 전기 손난로 HOT-7800S 핑크\n",
            "[일월]3인용방석 모노륨 전기방석 미니싱글매트 134X48cm\n",
            "[위닉스](행사)공식인증 위닉스 제로S 공기청정기 AZSE430-JWK\n",
            "엘피스 오방난로 EL-5W-1000 내구성 좋은 오면히터\n",
            "[TESS]TESS 보틀형가습기 미니가습기 초음파가습기 가습기\n",
            "한길에너텍 축열식 전기 온수기 300리터  REH-300\n",
            "[귀뚜라미]터보 하이핀 에코 ECO-30S 기름보일러 석유식 보일러\n",
            "[다이슨] 본사직영  다이슨 TP06 퓨어쿨 크립토믹 (화이트/골드)\n",
            "위닉스 마스터 대형 공기청정기 AMSM993-IWK\n",
            "공기청정기 전용 케이블 1개\n",
            "[제로]APRM833-JWK 위닉스 타워프라임 공기청정기/HK\n",
            "[블루스카이]삼성 블루스카이 AX39T1000UWD 공기청정기 10평형.E\n",
            "[신일전자]신일산업 석유 팬히터 SFH-1200BR\n",
            "[통씨통가]캐빈미노 주물난로\n",
            "[후지카]후지카 근적외선 좌석용 기계식 fu-4882 학원 사무실\n",
            "[대성셀틱]대성셀틱 일반형 가스보일러 DNB-16K 설치비포함\n",
            "[윈드피아]펭수전기방석 펭수전기요 전기방석 전기요 온열방석\n",
            "[일월]일월 초절전형 전기매트 양모 싱글 70x170 / 1인용\n",
            "[삼성전자]삼성전자 블루스카이 AX90T7020WBD 공기청정기_킴스\n",
            "[현대돌침대]현대 2021년형 금강약돌세라믹명품매트(미니1인용)\n",
            "보성산업 천장형 복사판넬 아이지아 BCIR15-450H\n",
            "조지루시 스팀식 가습기 EE-RP50-WA\n",
            "[일월]전기매트 카페트매트 나노륨 온돌마루 대형 183x250cm\n",
            "열가마 2400S 최신형전기난로 전기히터 전기온풍기\n",
            "삼성전자 무풍 큐브 AX47R9880WFD /가나다샵\n",
            "한일 1인용 전기장판 싱글 병원침대용 마사지샵\n",
            "[윈드피아]매직히터 미니히터 미니난로 전기 히터 난로 800S 1+1\n",
            "담비 전자파없는 DC12V 캠핑 1인용 전기매트 전기장판\n",
            "벽걸이형 전기 온풍기 VS-06W/리모컨/난방기/6평형/s\n",
            "[글루바인]글루바인 전자파안심 전기요 리베 더블\n",
            "[글루바인]글루바인 전자파안심 전기요 프레이야 더블\n",
            "[린나이]린나이 정품전기온수기30리터REW-TA30W하향\n",
            "[린나이]30리터 전기온수기 REW-W30INEH 하향식 단순배송\n",
            "[휘센]휘센 벽걸이형에어컨 SQ07B8PWDS 서울만배송 수도권\n",
            "[경동나비엔]The Care 온수매트 슬림형매트 퀸 EQM560-QS 차콜\n",
            "[신일전자]SEH-G800 2단 석영관히터 전기히터 미니히터 빠른발송\n",
            "한일 전기매트 전기장판 고급원목무늬 4~5인용(분리)\n",
            "12V 24V 차량용 이동식 캠핑용 일체형무시동히터\n",
            "에어메이드 9L 복합식 가습기 AMH-9000 3차 예약판매\n",
            "가이아모 F14 plus한개\n",
            "[귀뚜라미]귀뚜라미터보하이핀기름보일러 TURBO-9D 순환펌프내장\n",
            "[신일전자]신일 7핀 라디에이터 SER-K15LM 전기히터 오일식\n",
            "[일월]일월 시그니처 온수매트 더블 2021년형 신상품\n",
            "[린나이]가스순간온수기 중고린나이온수기  RUS-55FT-도시가스\n",
            "[보이로]SSG단독  보이로  독일 프리미엄 전기요 UB109(2인용/블루그레이)/4단계 온도조절/ 12시간 타이머/스...\n",
            "[윈드피아]근적외선히터 전기히터 전기난로 전기스토브 WH-60RA\n",
            "[신일전자]신일 석유 로터리 히터 SRH-15000PC\n",
            "[샤오미]샤오미 공기청정기 미에어 필터 전기종 호환 2020 신형\n",
            "[레브]레브 미니히터 전기온풍기 전기히터 가정용 사무실 YE\n",
            "벽걸이 모던히터 WINDPIA-1012H 벽걸이히터 식당히터\n",
            "경동나비엔 슬림 온수매트 EQM560-KS 킹사이즈\n",
            "[경동나비엔]온수매트 EQM560-QH 퀸쿠션\n",
            "한일의료기 무자계 자연마루 전기매트 2300x1800\n",
            "[한일]한일 전기 스토브 히터 EHF-3150BL\n",
            "[보이로]SSG단독  보이로  독일 프리미엄 전기요 UB109(2인용/그레이)/4단계 온도조절/ 12시간 타이머/스마트 ...\n",
            "[신일전자]SIF-FA400A 신일 에어서큘레이터 스탠드형 당일발송/GH\n",
            "[신일전자]신일 SEH-ECO2000 에코 리플렉터 히터 더마스터 /HK\n",
            "[삼원온스파]인체감지매트똑순이매트1인용+2인용특별행사/전기매트\n",
            "[신일전자]신일 라디에이터 15핀 SER-K30LFT 타이머형 전기히터\n",
            "[대성셀틱]대성전기라디에이터 DSRA-15(15핀)보조난방/히터\n",
            "[경동나비엔]친환경 콘덴싱 가스보일러 NCB353-14K 기본설치비 포함\n"
          ],
          "name": "stdout"
        }
      ]
    },
    {
      "cell_type": "code",
      "metadata": {
        "id": "dPv1Ash57mGs"
      },
      "source": [
        "cpdatas = cpsoup.select('a > dl > dd > div.name') # 쿠팡 상품 정보얻기\n",
        "for cp in cpdatas:\n",
        "    print(cp.text)\n",
        "    print(cp.get('href'))"
      ],
      "execution_count": null,
      "outputs": []
    },
    {
      "cell_type": "code",
      "metadata": {
        "id": "-2S9LFeAdGUg"
      },
      "source": [
        "# 제품명과 제품 경로를 분리한다.\n",
        "def parseProLink( name ):\n",
        "  \n",
        "  return"
      ],
      "execution_count": null,
      "outputs": []
    },
    {
      "cell_type": "markdown",
      "metadata": {
        "id": "qfmSF1kEWgp4"
      },
      "source": [
        "# 구글시트의 기록 영역"
      ]
    },
    {
      "cell_type": "markdown",
      "metadata": {
        "id": "N_c4fO0ab7XV"
      },
      "source": [
        "- 구글시트의 보기 편하게 구글시트 형식으로 변환하여 기록한다."
      ]
    },
    {
      "cell_type": "code",
      "metadata": {
        "id": "O8o0kNZvltGu",
        "outputId": "3179825d-17c5-46ac-c91f-e2e41e164ed9",
        "colab": {
          "base_uri": "https://localhost:8080/",
          "height": 395
        }
      },
      "source": [
        "!pip install --upgrade gspread\n",
        "\n",
        "from google.colab import auth\n",
        "auth.authenticate_user()\n",
        "\n",
        "import gspread\n",
        "from oauth2client.client import GoogleCredentials\n",
        "\n",
        "gc = gspread.authorize(GoogleCredentials.get_application_default())\n",
        "\n",
        "sh = gc.create('A new spreadsheet')\n",
        "\n",
        "# Open our new sheet and add some data.\n",
        "worksheet = gc.open('tesss1').sheet1\n",
        "\n",
        "cell_list = worksheet.range('A1:C2')\n",
        "\n",
        "import random\n",
        "for cell in cell_list:\n",
        "  cell.value = random.randint(1, 10)\n",
        "\n",
        "worksheet.update_cells(cell_list)\n",
        "# Go to https://sheets.google.com to see your new spreadsheet.\n",
        "\n"
      ],
      "execution_count": null,
      "outputs": [
        {
          "output_type": "stream",
          "text": [
            "Requirement already up-to-date: gspread in /usr/local/lib/python3.6/dist-packages (3.6.0)\n",
            "Requirement already satisfied, skipping upgrade: google-auth>=1.12.0 in /usr/local/lib/python3.6/dist-packages (from gspread) (1.17.2)\n",
            "Requirement already satisfied, skipping upgrade: requests>=2.2.1 in /usr/local/lib/python3.6/dist-packages (from gspread) (2.23.0)\n",
            "Requirement already satisfied, skipping upgrade: google-auth-oauthlib>=0.4.1 in /usr/local/lib/python3.6/dist-packages (from gspread) (0.4.1)\n",
            "Requirement already satisfied, skipping upgrade: cachetools<5.0,>=2.0.0 in /usr/local/lib/python3.6/dist-packages (from google-auth>=1.12.0->gspread) (4.1.1)\n",
            "Requirement already satisfied, skipping upgrade: pyasn1-modules>=0.2.1 in /usr/local/lib/python3.6/dist-packages (from google-auth>=1.12.0->gspread) (0.2.8)\n",
            "Requirement already satisfied, skipping upgrade: rsa<5,>=3.1.4; python_version >= \"3\" in /usr/local/lib/python3.6/dist-packages (from google-auth>=1.12.0->gspread) (4.6)\n",
            "Requirement already satisfied, skipping upgrade: setuptools>=40.3.0 in /usr/local/lib/python3.6/dist-packages (from google-auth>=1.12.0->gspread) (50.3.0)\n",
            "Requirement already satisfied, skipping upgrade: six>=1.9.0 in /usr/local/lib/python3.6/dist-packages (from google-auth>=1.12.0->gspread) (1.15.0)\n",
            "Requirement already satisfied, skipping upgrade: certifi>=2017.4.17 in /usr/local/lib/python3.6/dist-packages (from requests>=2.2.1->gspread) (2020.6.20)\n",
            "Requirement already satisfied, skipping upgrade: idna<3,>=2.5 in /usr/local/lib/python3.6/dist-packages (from requests>=2.2.1->gspread) (2.10)\n",
            "Requirement already satisfied, skipping upgrade: chardet<4,>=3.0.2 in /usr/local/lib/python3.6/dist-packages (from requests>=2.2.1->gspread) (3.0.4)\n",
            "Requirement already satisfied, skipping upgrade: urllib3!=1.25.0,!=1.25.1,<1.26,>=1.21.1 in /usr/local/lib/python3.6/dist-packages (from requests>=2.2.1->gspread) (1.24.3)\n",
            "Requirement already satisfied, skipping upgrade: requests-oauthlib>=0.7.0 in /usr/local/lib/python3.6/dist-packages (from google-auth-oauthlib>=0.4.1->gspread) (1.3.0)\n",
            "Requirement already satisfied, skipping upgrade: pyasn1<0.5.0,>=0.4.6 in /usr/local/lib/python3.6/dist-packages (from pyasn1-modules>=0.2.1->google-auth>=1.12.0->gspread) (0.4.8)\n",
            "Requirement already satisfied, skipping upgrade: oauthlib>=3.0.0 in /usr/local/lib/python3.6/dist-packages (from requests-oauthlib>=0.7.0->google-auth-oauthlib>=0.4.1->gspread) (3.1.0)\n"
          ],
          "name": "stdout"
        },
        {
          "output_type": "execute_result",
          "data": {
            "text/plain": [
              "{'spreadsheetId': '1pL1d0mMyY_wwUAOv1Ut7wAvVXnpps7hj3EkuaPdLP6g',\n",
              " 'updatedCells': 6,\n",
              " 'updatedColumns': 3,\n",
              " 'updatedRange': \"'시트1'!A1:C2\",\n",
              " 'updatedRows': 2}"
            ]
          },
          "metadata": {
            "tags": []
          },
          "execution_count": 15
        }
      ]
    },
    {
      "cell_type": "markdown",
      "metadata": {
        "id": "TwukDbjNcHg4"
      },
      "source": [
        "# Export"
      ]
    },
    {
      "cell_type": "markdown",
      "metadata": {
        "id": "ZEvYlyuLcOIq"
      },
      "source": [
        "- 필요의 따라 원하는 형식으로 export 한다. (xls, csv, txt)"
      ]
    },
    {
      "cell_type": "code",
      "metadata": {
        "id": "IKwkfx5PckTt"
      },
      "source": [
        "def gg():"
      ],
      "execution_count": null,
      "outputs": []
    }
  ]
}